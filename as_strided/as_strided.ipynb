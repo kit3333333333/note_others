{
 "cells": [
  {
   "cell_type": "code",
   "execution_count": 7,
   "id": "d7054eb1",
   "metadata": {},
   "outputs": [
    {
     "data": {
      "text/plain": [
       "array([[ 1.1,  2.1,  3.1,  4.1],\n",
       "       [ 2.1,  3.1,  4.1,  5.1],\n",
       "       [ 3.1,  4.1,  5.1,  6.1],\n",
       "       [ 4.1,  5.1,  6.1,  7.1],\n",
       "       [ 5.1,  6.1,  7.1,  8.1],\n",
       "       [ 6.1,  7.1,  8.1,  9.1],\n",
       "       [ 7.1,  8.1,  9.1, 10.1],\n",
       "       [ 8.1,  9.1, 10.1, 11.1],\n",
       "       [ 9.1, 10.1, 11.1, 12.1],\n",
       "       [10.1, 11.1, 12.1, 13.1],\n",
       "       [11.1, 12.1, 13.1, 14.1],\n",
       "       [12.1, 13.1, 14.1, 15.1],\n",
       "       [13.1, 14.1, 15.1, 16.1],\n",
       "       [14.1, 15.1, 16.1, 17.1],\n",
       "       [15.1, 16.1, 17.1, 18.1],\n",
       "       [16.1, 17.1, 18.1, 19.1],\n",
       "       [17.1, 18.1, 19.1, 20.1]])"
      ]
     },
     "execution_count": 7,
     "metadata": {},
     "output_type": "execute_result"
    }
   ],
   "source": [
    "import numpy as np\n",
    "from numpy.lib.stride_tricks import as_strided\n",
    "test=np.array([1.1,2.1,3.1,4.1,5.1,6.1,7.1,8.1,9.1,10.1,11.1,12.1,13.1,14.1,15.1,16.1,17.1,18.1,19.1,20.1])\n",
    "as_strided(test, shape=(test.size - 4 + 1, 4),strides=(8,8))"
   ]
  },
  {
   "cell_type": "code",
   "execution_count": 8,
   "id": "e969eecb",
   "metadata": {},
   "outputs": [
    {
     "data": {
      "text/plain": [
       "array([[ 1,  2,  3,  4],\n",
       "       [ 2,  3,  4,  5],\n",
       "       [ 3,  4,  5,  6],\n",
       "       [ 4,  5,  6,  7],\n",
       "       [ 5,  6,  7,  8],\n",
       "       [ 6,  7,  8,  9],\n",
       "       [ 7,  8,  9, 10],\n",
       "       [ 8,  9, 10, 11],\n",
       "       [ 9, 10, 11, 12],\n",
       "       [10, 11, 12, 13],\n",
       "       [11, 12, 13, 14],\n",
       "       [12, 13, 14, 15],\n",
       "       [13, 14, 15, 16],\n",
       "       [14, 15, 16, 17],\n",
       "       [15, 16, 17, 18],\n",
       "       [16, 17, 18, 19],\n",
       "       [17, 18, 19, 20]])"
      ]
     },
     "execution_count": 8,
     "metadata": {},
     "output_type": "execute_result"
    }
   ],
   "source": [
    "test=np.array([1,2,3,4,5,6,7,8,9,10,11,12,13,14,15,16,17,18,19,20])\n",
    "as_strided(test, shape=(test.size - 4 + 1, 4),\n",
    "                   strides=(4,4))"
   ]
  },
  {
   "cell_type": "code",
   "execution_count": null,
   "id": "4127f140",
   "metadata": {},
   "outputs": [],
   "source": []
  }
 ],
 "metadata": {
  "kernelspec": {
   "display_name": "py38_jq",
   "language": "python",
   "name": "py38_jq"
  },
  "language_info": {
   "codemirror_mode": {
    "name": "ipython",
    "version": 3
   },
   "file_extension": ".py",
   "mimetype": "text/x-python",
   "name": "python",
   "nbconvert_exporter": "python",
   "pygments_lexer": "ipython3",
   "version": "3.8.12"
  }
 },
 "nbformat": 4,
 "nbformat_minor": 5
}
